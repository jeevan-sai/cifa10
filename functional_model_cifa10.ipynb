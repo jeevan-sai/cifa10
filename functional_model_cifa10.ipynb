{
  "nbformat": 4,
  "nbformat_minor": 0,
  "metadata": {
    "colab": {
      "provenance": []
    },
    "kernelspec": {
      "name": "python3",
      "display_name": "Python 3"
    },
    "language_info": {
      "name": "python"
    }
  },
  "cells": [
    {
      "cell_type": "code",
      "execution_count": 1,
      "metadata": {
        "id": "piQ4--EfB7Rq"
      },
      "outputs": [],
      "source": [
        "import pandas as pd"
      ]
    },
    {
      "cell_type": "code",
      "source": [
        "import numpy as np\n",
        "import matplotlib.pyplot as plt"
      ],
      "metadata": {
        "id": "sGqkQD3QCB3s"
      },
      "execution_count": 2,
      "outputs": []
    },
    {
      "cell_type": "code",
      "source": [
        "from tensorflow.keras.models import Model"
      ],
      "metadata": {
        "id": "j9YHGkBHCKyS"
      },
      "execution_count": 4,
      "outputs": []
    },
    {
      "cell_type": "code",
      "source": [
        "from tensorflow.keras.layers import Input,Flatten,Dense"
      ],
      "metadata": {
        "id": "M3RQRjSpCyEV"
      },
      "execution_count": 41,
      "outputs": []
    },
    {
      "cell_type": "code",
      "source": [
        "from tensorflow.keras.datasets import cifar10"
      ],
      "metadata": {
        "id": "Bz97PCjfDFlC"
      },
      "execution_count": 6,
      "outputs": []
    },
    {
      "cell_type": "code",
      "source": [
        "(X_train,y_train),(X_test,y_test)=cifar10.load_data()"
      ],
      "metadata": {
        "id": "ekZZ1bp-DUir"
      },
      "execution_count": 12,
      "outputs": []
    },
    {
      "cell_type": "code",
      "source": [
        "cols=[\"airplane\",\"automobile\",\"bird\",\"cat\",\"deer\",\"dog\",\"frog\",\"horse\",\"ship\",\"truck\"]"
      ],
      "metadata": {
        "id": "zQ7zRZQwEFP7"
      },
      "execution_count": 16,
      "outputs": []
    },
    {
      "cell_type": "code",
      "source": [
        "X_train.shape"
      ],
      "metadata": {
        "colab": {
          "base_uri": "https://localhost:8080/"
        },
        "id": "A2q2LfkJDlaB",
        "outputId": "09ff4366-b6f3-43f9-e7a4-9dd208de6250"
      },
      "execution_count": 13,
      "outputs": [
        {
          "output_type": "execute_result",
          "data": {
            "text/plain": [
              "(50000, 32, 32, 3)"
            ]
          },
          "metadata": {},
          "execution_count": 13
        }
      ]
    },
    {
      "cell_type": "code",
      "source": [
        "X_test.shape"
      ],
      "metadata": {
        "colab": {
          "base_uri": "https://localhost:8080/"
        },
        "id": "J5Q9jtKEDupy",
        "outputId": "f7789039-384b-4006-e971-cbc8b885f13f"
      },
      "execution_count": 14,
      "outputs": [
        {
          "output_type": "execute_result",
          "data": {
            "text/plain": [
              "(10000, 32, 32, 3)"
            ]
          },
          "metadata": {},
          "execution_count": 14
        }
      ]
    },
    {
      "cell_type": "code",
      "source": [
        "X_train[3499]"
      ],
      "metadata": {
        "colab": {
          "base_uri": "https://localhost:8080/",
          "height": 886
        },
        "id": "YG15PhmdDxA7",
        "outputId": "2efefce1-14b0-4bf9-aaa8-4b0044837ec3"
      },
      "execution_count": 10,
      "outputs": [
        {
          "output_type": "execute_result",
          "data": {
            "text/plain": [
              "array([[[ 82,  22,  29],\n",
              "        [ 88,  24,  32],\n",
              "        [ 94,  23,  33],\n",
              "        ...,\n",
              "        [112, 119, 131],\n",
              "        [110, 120, 133],\n",
              "        [117, 129, 145]],\n",
              "\n",
              "       [[ 90,  55,  53],\n",
              "        [ 91,  40,  43],\n",
              "        [ 91,  26,  34],\n",
              "        ...,\n",
              "        [ 82,  86,  98],\n",
              "        [ 69,  76,  88],\n",
              "        [ 78,  88, 102]],\n",
              "\n",
              "       [[ 91,  72,  65],\n",
              "        [ 91,  69,  63],\n",
              "        [ 93,  68,  63],\n",
              "        ...,\n",
              "        [ 68,  69,  80],\n",
              "        [ 62,  65,  77],\n",
              "        [ 66,  71,  85]],\n",
              "\n",
              "       ...,\n",
              "\n",
              "       [[ 95,  81,  72],\n",
              "        [ 80,  70,  68],\n",
              "        [ 85,  79,  82],\n",
              "        ...,\n",
              "        [ 90,  87,  91],\n",
              "        [ 84,  82,  87],\n",
              "        [ 85,  83,  92]],\n",
              "\n",
              "       [[ 83,  71,  68],\n",
              "        [ 89,  82,  86],\n",
              "        [101,  99, 110],\n",
              "        ...,\n",
              "        [104,  95, 104],\n",
              "        [ 99,  93, 103],\n",
              "        [ 96,  93, 105]],\n",
              "\n",
              "       [[ 79,  68,  72],\n",
              "        [ 83,  76,  85],\n",
              "        [ 91,  88, 103],\n",
              "        ...,\n",
              "        [100,  93, 103],\n",
              "        [ 99,  95, 106],\n",
              "        [ 99,  97, 110]]], dtype=uint8)"
            ],
            "text/html": [
              "<style>\n",
              "      .ndarray_repr .ndarray_raw_data {\n",
              "        display: none;\n",
              "      }\n",
              "      .ndarray_repr.show_array .ndarray_raw_data {\n",
              "        display: block;\n",
              "      }\n",
              "      .ndarray_repr.show_array .ndarray_image_preview {\n",
              "        display: none;\n",
              "      }\n",
              "      </style>\n",
              "      <div id=\"id-6b00077c-80a6-4846-a961-a9a46318ac11\" class=\"ndarray_repr\"><pre>ndarray (32, 32, 3) <button style=\"padding: 0 2px;\">show data</button></pre><img src=\"data:image/png;base64,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\" class=\"ndarray_image_preview\" /><pre class=\"ndarray_raw_data\">array([[[ 82,  22,  29],\n",
              "        [ 88,  24,  32],\n",
              "        [ 94,  23,  33],\n",
              "        ...,\n",
              "        [112, 119, 131],\n",
              "        [110, 120, 133],\n",
              "        [117, 129, 145]],\n",
              "\n",
              "       [[ 90,  55,  53],\n",
              "        [ 91,  40,  43],\n",
              "        [ 91,  26,  34],\n",
              "        ...,\n",
              "        [ 82,  86,  98],\n",
              "        [ 69,  76,  88],\n",
              "        [ 78,  88, 102]],\n",
              "\n",
              "       [[ 91,  72,  65],\n",
              "        [ 91,  69,  63],\n",
              "        [ 93,  68,  63],\n",
              "        ...,\n",
              "        [ 68,  69,  80],\n",
              "        [ 62,  65,  77],\n",
              "        [ 66,  71,  85]],\n",
              "\n",
              "       ...,\n",
              "\n",
              "       [[ 95,  81,  72],\n",
              "        [ 80,  70,  68],\n",
              "        [ 85,  79,  82],\n",
              "        ...,\n",
              "        [ 90,  87,  91],\n",
              "        [ 84,  82,  87],\n",
              "        [ 85,  83,  92]],\n",
              "\n",
              "       [[ 83,  71,  68],\n",
              "        [ 89,  82,  86],\n",
              "        [101,  99, 110],\n",
              "        ...,\n",
              "        [104,  95, 104],\n",
              "        [ 99,  93, 103],\n",
              "        [ 96,  93, 105]],\n",
              "\n",
              "       [[ 79,  68,  72],\n",
              "        [ 83,  76,  85],\n",
              "        [ 91,  88, 103],\n",
              "        ...,\n",
              "        [100,  93, 103],\n",
              "        [ 99,  95, 106],\n",
              "        [ 99,  97, 110]]], dtype=uint8)</pre></div><script>\n",
              "      (() => {\n",
              "      const titles = ['show data', 'hide data'];\n",
              "      let index = 0\n",
              "      document.querySelector('#id-6b00077c-80a6-4846-a961-a9a46318ac11 button').onclick = (e) => {\n",
              "        document.querySelector('#id-6b00077c-80a6-4846-a961-a9a46318ac11').classList.toggle('show_array');\n",
              "        index = (++index) % 2;\n",
              "        document.querySelector('#id-6b00077c-80a6-4846-a961-a9a46318ac11 button').textContent = titles[index];\n",
              "        e.preventDefault();\n",
              "        e.stopPropagation();\n",
              "      }\n",
              "      })();\n",
              "    </script>"
            ]
          },
          "metadata": {},
          "execution_count": 10
        }
      ]
    },
    {
      "cell_type": "code",
      "source": [
        "plt.imshow(X_train[3499])"
      ],
      "metadata": {
        "colab": {
          "base_uri": "https://localhost:8080/",
          "height": 447
        },
        "id": "tOE0Qmt8D3WX",
        "outputId": "c4f00a24-a5bc-4206-ef3a-8993a416af6b"
      },
      "execution_count": 11,
      "outputs": [
        {
          "output_type": "execute_result",
          "data": {
            "text/plain": [
              "<matplotlib.image.AxesImage at 0x7fc9a2a9bca0>"
            ]
          },
          "metadata": {},
          "execution_count": 11
        },
        {
          "output_type": "display_data",
          "data": {
            "text/plain": [
              "<Figure size 640x480 with 1 Axes>"
            ],
            "image/png": "[encoded data removed]"
          },
          "metadata": {}
        }
      ]
    },
    {
      "cell_type": "code",
      "source": [
        "y_train[3499]"
      ],
      "metadata": {
        "colab": {
          "base_uri": "https://localhost:8080/"
        },
        "id": "TfEFayVFECd1",
        "outputId": "d7da8cc4-6d3d-4d02-d055-8fdd743eeee0"
      },
      "execution_count": 15,
      "outputs": [
        {
          "output_type": "execute_result",
          "data": {
            "text/plain": [
              "array([5], dtype=uint8)"
            ]
          },
          "metadata": {},
          "execution_count": 15
        }
      ]
    },
    {
      "cell_type": "code",
      "source": [
        "cols[5]"
      ],
      "metadata": {
        "colab": {
          "base_uri": "https://localhost:8080/",
          "height": 36
        },
        "id": "xEsbpjJGFk9f",
        "outputId": "a6311450-049f-41ec-93bb-136e10239835"
      },
      "execution_count": 17,
      "outputs": [
        {
          "output_type": "execute_result",
          "data": {
            "text/plain": [
              "'dog'"
            ],
            "application/vnd.google.colaboratory.intrinsic+json": {
              "type": "string"
            }
          },
          "metadata": {},
          "execution_count": 17
        }
      ]
    },
    {
      "cell_type": "code",
      "source": [
        "X_train.max()"
      ],
      "metadata": {
        "colab": {
          "base_uri": "https://localhost:8080/"
        },
        "id": "C3tLHR-wGLFd",
        "outputId": "de9f2be9-1e35-4f39-d1d9-83733664cd62"
      },
      "execution_count": 18,
      "outputs": [
        {
          "output_type": "execute_result",
          "data": {
            "text/plain": [
              "255"
            ]
          },
          "metadata": {},
          "execution_count": 18
        }
      ]
    },
    {
      "cell_type": "code",
      "source": [
        "X_test.max()"
      ],
      "metadata": {
        "colab": {
          "base_uri": "https://localhost:8080/"
        },
        "id": "IBidUbsnGQrk",
        "outputId": "10e7c81b-0378-4cf4-d930-3551cf4fc23d"
      },
      "execution_count": 19,
      "outputs": [
        {
          "output_type": "execute_result",
          "data": {
            "text/plain": [
              "255"
            ]
          },
          "metadata": {},
          "execution_count": 19
        }
      ]
    },
    {
      "cell_type": "code",
      "source": [
        "display(X_test.min())\n",
        "display(X_train.min())"
      ],
      "metadata": {
        "colab": {
          "base_uri": "https://localhost:8080/",
          "height": 52
        },
        "id": "EVf2HxsPGTph",
        "outputId": "fdd4909e-17f0-4bfb-e53e-8c0529535eb3"
      },
      "execution_count": 20,
      "outputs": [
        {
          "output_type": "display_data",
          "data": {
            "text/plain": [
              "0"
            ]
          },
          "metadata": {}
        },
        {
          "output_type": "display_data",
          "data": {
            "text/plain": [
              "0"
            ]
          },
          "metadata": {}
        }
      ]
    },
    {
      "cell_type": "code",
      "source": [
        "X_test[8700]"
      ],
      "metadata": {
        "colab": {
          "base_uri": "https://localhost:8080/",
          "height": 886
        },
        "id": "iB_AkwA0GddW",
        "outputId": "abe71e57-7c0b-4bad-f92b-1ae1193d8d68"
      },
      "execution_count": 21,
      "outputs": [
        {
          "output_type": "execute_result",
          "data": {
            "text/plain": [
              "array([[[136, 125, 133],\n",
              "        [134, 122, 130],\n",
              "        [137, 127, 133],\n",
              "        ...,\n",
              "        [139, 128, 131],\n",
              "        [135, 124, 128],\n",
              "        [127, 118, 121]],\n",
              "\n",
              "       [[136, 125, 133],\n",
              "        [132, 120, 128],\n",
              "        [120, 110, 114],\n",
              "        ...,\n",
              "        [133, 120, 123],\n",
              "        [125, 114, 120],\n",
              "        [126, 116, 119]],\n",
              "\n",
              "       [[130, 120, 126],\n",
              "        [121, 112, 119],\n",
              "        [ 91,  83,  86],\n",
              "        ...,\n",
              "        [132, 119, 123],\n",
              "        [127, 116, 121],\n",
              "        [133, 121, 124]],\n",
              "\n",
              "       ...,\n",
              "\n",
              "       [[ 92,  58,  37],\n",
              "        [ 85,  54,  33],\n",
              "        [ 97,  67,  46],\n",
              "        ...,\n",
              "        [231, 239, 246],\n",
              "        [231, 239, 246],\n",
              "        [224, 233, 240]],\n",
              "\n",
              "       [[ 93,  59,  38],\n",
              "        [ 93,  57,  33],\n",
              "        [100,  67,  44],\n",
              "        ...,\n",
              "        [230, 238, 245],\n",
              "        [231, 240, 247],\n",
              "        [227, 236, 245]],\n",
              "\n",
              "       [[ 91,  58,  37],\n",
              "        [ 91,  54,  32],\n",
              "        [100,  61,  37],\n",
              "        ...,\n",
              "        [228, 235, 242],\n",
              "        [227, 236, 243],\n",
              "        [223, 232, 241]]], dtype=uint8)"
            ],
            "text/html": [
              "<style>\n",
              "      .ndarray_repr .ndarray_raw_data {\n",
              "        display: none;\n",
              "      }\n",
              "      .ndarray_repr.show_array .ndarray_raw_data {\n",
              "        display: block;\n",
              "      }\n",
              "      .ndarray_repr.show_array .ndarray_image_preview {\n",
              "        display: none;\n",
              "      }\n",
              "      </style>\n",
              "      <div id=\"id-398892c9-baed-40f9-b10c-5538c144adf1\" class=\"ndarray_repr\"><pre>ndarray (32, 32, 3) <button style=\"padding: 0 2px;\">show data</button></pre><img src=\"data:image/png;base64,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\" class=\"ndarray_image_preview\" /><pre class=\"ndarray_raw_data\">array([[[136, 125, 133],\n",
              "        [134, 122, 130],\n",
              "        [137, 127, 133],\n",
              "        ...,\n",
              "        [139, 128, 131],\n",
              "        [135, 124, 128],\n",
              "        [127, 118, 121]],\n",
              "\n",
              "       [[136, 125, 133],\n",
              "        [132, 120, 128],\n",
              "        [120, 110, 114],\n",
              "        ...,\n",
              "        [133, 120, 123],\n",
              "        [125, 114, 120],\n",
              "        [126, 116, 119]],\n",
              "\n",
              "       [[130, 120, 126],\n",
              "        [121, 112, 119],\n",
              "        [ 91,  83,  86],\n",
              "        ...,\n",
              "        [132, 119, 123],\n",
              "        [127, 116, 121],\n",
              "        [133, 121, 124]],\n",
              "\n",
              "       ...,\n",
              "\n",
              "       [[ 92,  58,  37],\n",
              "        [ 85,  54,  33],\n",
              "        [ 97,  67,  46],\n",
              "        ...,\n",
              "        [231, 239, 246],\n",
              "        [231, 239, 246],\n",
              "        [224, 233, 240]],\n",
              "\n",
              "       [[ 93,  59,  38],\n",
              "        [ 93,  57,  33],\n",
              "        [100,  67,  44],\n",
              "        ...,\n",
              "        [230, 238, 245],\n",
              "        [231, 240, 247],\n",
              "        [227, 236, 245]],\n",
              "\n",
              "       [[ 91,  58,  37],\n",
              "        [ 91,  54,  32],\n",
              "        [100,  61,  37],\n",
              "        ...,\n",
              "        [228, 235, 242],\n",
              "        [227, 236, 243],\n",
              "        [223, 232, 241]]], dtype=uint8)</pre></div><script>\n",
              "      (() => {\n",
              "      const titles = ['show data', 'hide data'];\n",
              "      let index = 0\n",
              "      document.querySelector('#id-398892c9-baed-40f9-b10c-5538c144adf1 button').onclick = (e) => {\n",
              "        document.querySelector('#id-398892c9-baed-40f9-b10c-5538c144adf1').classList.toggle('show_array');\n",
              "        index = (++index) % 2;\n",
              "        document.querySelector('#id-398892c9-baed-40f9-b10c-5538c144adf1 button').textContent = titles[index];\n",
              "        e.preventDefault();\n",
              "        e.stopPropagation();\n",
              "      }\n",
              "      })();\n",
              "    </script>"
            ]
          },
          "metadata": {},
          "execution_count": 21
        }
      ]
    },
    {
      "cell_type": "code",
      "source": [
        "plt.imshow(X_test[8700])"
      ],
      "metadata": {
        "colab": {
          "base_uri": "https://localhost:8080/",
          "height": 447
        },
        "id": "YVf0LGbdGhRm",
        "outputId": "83ab62d8-c859-4bac-f0c3-da555d69b5d6"
      },
      "execution_count": 22,
      "outputs": [
        {
          "output_type": "execute_result",
          "data": {
            "text/plain": [
              "<matplotlib.image.AxesImage at 0x7fc9a2b700a0>"
            ]
          },
          "metadata": {},
          "execution_count": 22
        },
        {
          "output_type": "display_data",
          "data": {
            "text/plain": [
              "<Figure size 640x480 with 1 Axes>"
            ],
            "image/png": "[encoded data removed]"
          },
          "metadata": {}
        }
      ]
    },
    {
      "cell_type": "code",
      "source": [
        "y_test[8700]"
      ],
      "metadata": {
        "colab": {
          "base_uri": "https://localhost:8080/"
        },
        "id": "9YYJNu0AG18D",
        "outputId": "6bc550e4-f499-449a-cfcf-0ba21d395aae"
      },
      "execution_count": 23,
      "outputs": [
        {
          "output_type": "execute_result",
          "data": {
            "text/plain": [
              "array([3], dtype=uint8)"
            ]
          },
          "metadata": {},
          "execution_count": 23
        }
      ]
    },
    {
      "cell_type": "code",
      "source": [
        "cols[3]"
      ],
      "metadata": {
        "colab": {
          "base_uri": "https://localhost:8080/",
          "height": 36
        },
        "id": "_R1jBUvFG4y7",
        "outputId": "9515f4ea-1412-4e44-bc0a-32e8ffb869e5"
      },
      "execution_count": 24,
      "outputs": [
        {
          "output_type": "execute_result",
          "data": {
            "text/plain": [
              "'cat'"
            ],
            "application/vnd.google.colaboratory.intrinsic+json": {
              "type": "string"
            }
          },
          "metadata": {},
          "execution_count": 24
        }
      ]
    },
    {
      "cell_type": "code",
      "source": [
        "X_train[34]"
      ],
      "metadata": {
        "colab": {
          "base_uri": "https://localhost:8080/",
          "height": 886
        },
        "id": "pUNQsDE1G7dM",
        "outputId": "f315e3f3-3063-41fc-aa02-1f93d43e7d56"
      },
      "execution_count": 25,
      "outputs": [
        {
          "output_type": "execute_result",
          "data": {
            "text/plain": [
              "array([[[172, 187, 130],\n",
              "        [171, 186, 130],\n",
              "        [168, 182, 126],\n",
              "        ...,\n",
              "        [158, 170, 113],\n",
              "        [156, 169, 113],\n",
              "        [147, 163, 107]],\n",
              "\n",
              "       [[169, 185, 123],\n",
              "        [168, 183, 122],\n",
              "        [168, 184, 123],\n",
              "        ...,\n",
              "        [158, 175, 114],\n",
              "        [152, 170, 110],\n",
              "        [145, 165, 107]],\n",
              "\n",
              "       [[174, 190, 126],\n",
              "        [169, 185, 122],\n",
              "        [170, 186, 123],\n",
              "        ...,\n",
              "        [157, 177, 115],\n",
              "        [149, 170, 108],\n",
              "        [146, 168, 109]],\n",
              "\n",
              "       ...,\n",
              "\n",
              "       [[150, 163, 100],\n",
              "        [157, 168, 103],\n",
              "        [162, 170, 104],\n",
              "        ...,\n",
              "        [158, 168, 108],\n",
              "        [147, 160,  99],\n",
              "        [139, 154,  90]],\n",
              "\n",
              "       [[143, 154,  89],\n",
              "        [149, 158,  90],\n",
              "        [155, 161,  96],\n",
              "        ...,\n",
              "        [148, 157,  99],\n",
              "        [143, 153,  92],\n",
              "        [140, 153,  88]],\n",
              "\n",
              "       [[148, 158,  93],\n",
              "        [146, 155,  89],\n",
              "        [149, 157,  92],\n",
              "        ...,\n",
              "        [137, 143,  86],\n",
              "        [134, 139,  80],\n",
              "        [136, 143,  82]]], dtype=uint8)"
            ],
            "text/html": [
              "<style>\n",
              "      .ndarray_repr .ndarray_raw_data {\n",
              "        display: none;\n",
              "      }\n",
              "      .ndarray_repr.show_array .ndarray_raw_data {\n",
              "        display: block;\n",
              "      }\n",
              "      .ndarray_repr.show_array .ndarray_image_preview {\n",
              "        display: none;\n",
              "      }\n",
              "      </style>\n",
              "      <div id=\"id-e83ba7f4-0eae-421b-80e7-2cb778478fbf\" class=\"ndarray_repr\"><pre>ndarray (32, 32, 3) <button style=\"padding: 0 2px;\">show data</button></pre><img src=\"data:image/png;base64,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\" class=\"ndarray_image_preview\" /><pre class=\"ndarray_raw_data\">array([[[172, 187, 130],\n",
              "        [171, 186, 130],\n",
              "        [168, 182, 126],\n",
              "        ...,\n",
              "        [158, 170, 113],\n",
              "        [156, 169, 113],\n",
              "        [147, 163, 107]],\n",
              "\n",
              "       [[169, 185, 123],\n",
              "        [168, 183, 122],\n",
              "        [168, 184, 123],\n",
              "        ...,\n",
              "        [158, 175, 114],\n",
              "        [152, 170, 110],\n",
              "        [145, 165, 107]],\n",
              "\n",
              "       [[174, 190, 126],\n",
              "        [169, 185, 122],\n",
              "        [170, 186, 123],\n",
              "        ...,\n",
              "        [157, 177, 115],\n",
              "        [149, 170, 108],\n",
              "        [146, 168, 109]],\n",
              "\n",
              "       ...,\n",
              "\n",
              "       [[150, 163, 100],\n",
              "        [157, 168, 103],\n",
              "        [162, 170, 104],\n",
              "        ...,\n",
              "        [158, 168, 108],\n",
              "        [147, 160,  99],\n",
              "        [139, 154,  90]],\n",
              "\n",
              "       [[143, 154,  89],\n",
              "        [149, 158,  90],\n",
              "        [155, 161,  96],\n",
              "        ...,\n",
              "        [148, 157,  99],\n",
              "        [143, 153,  92],\n",
              "        [140, 153,  88]],\n",
              "\n",
              "       [[148, 158,  93],\n",
              "        [146, 155,  89],\n",
              "        [149, 157,  92],\n",
              "        ...,\n",
              "        [137, 143,  86],\n",
              "        [134, 139,  80],\n",
              "        [136, 143,  82]]], dtype=uint8)</pre></div><script>\n",
              "      (() => {\n",
              "      const titles = ['show data', 'hide data'];\n",
              "      let index = 0\n",
              "      document.querySelector('#id-e83ba7f4-0eae-421b-80e7-2cb778478fbf button').onclick = (e) => {\n",
              "        document.querySelector('#id-e83ba7f4-0eae-421b-80e7-2cb778478fbf').classList.toggle('show_array');\n",
              "        index = (++index) % 2;\n",
              "        document.querySelector('#id-e83ba7f4-0eae-421b-80e7-2cb778478fbf button').textContent = titles[index];\n",
              "        e.preventDefault();\n",
              "        e.stopPropagation();\n",
              "      }\n",
              "      })();\n",
              "    </script>"
            ]
          },
          "metadata": {},
          "execution_count": 25
        }
      ]
    },
    {
      "cell_type": "code",
      "source": [
        "plt.imshow(X_train[34])"
      ],
      "metadata": {
        "colab": {
          "base_uri": "https://localhost:8080/",
          "height": 447
        },
        "id": "E13AdiORHDpB",
        "outputId": "1d2c7168-1334-4cb9-f24e-34d502f84486"
      },
      "execution_count": 26,
      "outputs": [
        {
          "output_type": "execute_result",
          "data": {
            "text/plain": [
              "<matplotlib.image.AxesImage at 0x7fc9abefb760>"
            ]
          },
          "metadata": {},
          "execution_count": 26
        },
        {
          "output_type": "display_data",
          "data": {
            "text/plain": [
              "<Figure size 640x480 with 1 Axes>"
            ],
            "image/png": "[encoded data removed]"
          },
          "metadata": {}
        }
      ]
    },
    {
      "cell_type": "code",
      "source": [
        "y_train[34]"
      ],
      "metadata": {
        "colab": {
          "base_uri": "https://localhost:8080/"
        },
        "id": "oTyruyoLHKXi",
        "outputId": "3ca1550b-d94e-4e66-d3fb-c0c6fa28a566"
      },
      "execution_count": 27,
      "outputs": [
        {
          "output_type": "execute_result",
          "data": {
            "text/plain": [
              "array([4], dtype=uint8)"
            ]
          },
          "metadata": {},
          "execution_count": 27
        }
      ]
    },
    {
      "cell_type": "code",
      "source": [
        "cols[4]"
      ],
      "metadata": {
        "colab": {
          "base_uri": "https://localhost:8080/",
          "height": 36
        },
        "id": "bG3sZ3nEHNxp",
        "outputId": "7b6e60cd-46cb-4d66-d8c9-d3eb5ad9d274"
      },
      "execution_count": 29,
      "outputs": [
        {
          "output_type": "execute_result",
          "data": {
            "text/plain": [
              "'deer'"
            ],
            "application/vnd.google.colaboratory.intrinsic+json": {
              "type": "string"
            }
          },
          "metadata": {},
          "execution_count": 29
        }
      ]
    },
    {
      "cell_type": "code",
      "source": [
        "X_train_scale=X_train/255\n"
      ],
      "metadata": {
        "id": "TRtIw2vkHPnz"
      },
      "execution_count": 31,
      "outputs": []
    },
    {
      "cell_type": "code",
      "source": [
        "X_test_scale=X_test/255"
      ],
      "metadata": {
        "id": "WJFWRZN5HYsX"
      },
      "execution_count": 32,
      "outputs": []
    },
    {
      "cell_type": "code",
      "source": [
        "X_train_scale.max()"
      ],
      "metadata": {
        "colab": {
          "base_uri": "https://localhost:8080/"
        },
        "id": "ggukDuDwHgZr",
        "outputId": "56ed08c2-e24a-4fc3-e225-a7c21eeba392"
      },
      "execution_count": 33,
      "outputs": [
        {
          "output_type": "execute_result",
          "data": {
            "text/plain": [
              "1.0"
            ]
          },
          "metadata": {},
          "execution_count": 33
        }
      ]
    },
    {
      "cell_type": "code",
      "source": [
        "X_test_scale.max()"
      ],
      "metadata": {
        "colab": {
          "base_uri": "https://localhost:8080/"
        },
        "id": "1YNQ2g5cHjYP",
        "outputId": "d0c99672-0ac6-41ca-f87f-1d32e3509462"
      },
      "execution_count": 34,
      "outputs": [
        {
          "output_type": "execute_result",
          "data": {
            "text/plain": [
              "1.0"
            ]
          },
          "metadata": {},
          "execution_count": 34
        }
      ]
    },
    {
      "cell_type": "code",
      "source": [],
      "metadata": {
        "id": "QXrIxvnBHnSY"
      },
      "execution_count": 36,
      "outputs": []
    },
    {
      "cell_type": "code",
      "source": [
        "feed=Input(shape=(32,32,3))"
      ],
      "metadata": {
        "id": "f3-ftlMBH9tV"
      },
      "execution_count": 45,
      "outputs": []
    },
    {
      "cell_type": "code",
      "source": [
        "f1=Flatten()(feed)"
      ],
      "metadata": {
        "id": "JYmAL8T2HyLr"
      },
      "execution_count": 46,
      "outputs": []
    },
    {
      "cell_type": "code",
      "source": [
        "d1=Dense(512,activation=\"relu\")(f1)"
      ],
      "metadata": {
        "id": "T9S3ck_pIlGG"
      },
      "execution_count": 47,
      "outputs": []
    },
    {
      "cell_type": "code",
      "source": [
        "d2=Dense(256,activation=\"relu\")(d1)"
      ],
      "metadata": {
        "id": "nz_O1lvYJab9"
      },
      "execution_count": 49,
      "outputs": []
    },
    {
      "cell_type": "code",
      "source": [
        "d3=Dense(128,activation=\"relu\")(d2)"
      ],
      "metadata": {
        "id": "xvQ4SacCJmaT"
      },
      "execution_count": 51,
      "outputs": []
    },
    {
      "cell_type": "code",
      "source": [
        "d4=Dense(64,activation=\"relu\")(d3)"
      ],
      "metadata": {
        "id": "CAPddstCJs0s"
      },
      "execution_count": 53,
      "outputs": []
    },
    {
      "cell_type": "code",
      "source": [
        "d5=Dense(128,activation=\"relu\")(d4)"
      ],
      "metadata": {
        "id": "zTkkfnhZJ0vJ"
      },
      "execution_count": 54,
      "outputs": []
    },
    {
      "cell_type": "code",
      "source": [
        "d6=Dense(256,activation=\"relu\")(d5)"
      ],
      "metadata": {
        "id": "9QvZte3AJ92N"
      },
      "execution_count": 55,
      "outputs": []
    },
    {
      "cell_type": "code",
      "source": [
        "ot=Dense(10,activation=\"softmax\")(d6)"
      ],
      "metadata": {
        "id": "nIa3W3elKDFD"
      },
      "execution_count": 56,
      "outputs": []
    },
    {
      "cell_type": "code",
      "source": [
        "fmodel=Model(inputs=feed,outputs=ot)"
      ],
      "metadata": {
        "id": "TVnsPlbxKRzQ"
      },
      "execution_count": 58,
      "outputs": []
    },
    {
      "cell_type": "code",
      "source": [
        "fmodel.summary()"
      ],
      "metadata": {
        "colab": {
          "base_uri": "https://localhost:8080/",
          "height": 417
        },
        "id": "R3oJHeJAKfyL",
        "outputId": "532bdbb4-a010-49f4-b60a-1f5af8e761cb"
      },
      "execution_count": 59,
      "outputs": [
        {
          "output_type": "display_data",
          "data": {
            "text/plain": [
              "\u001b[1mModel: \"functional\"\u001b[0m\n"
            ],
            "text/html": [
              "<pre style=\"white-space:pre;overflow-x:auto;line-height:normal;font-family:Menlo,'DejaVu Sans Mono',consolas,'Courier New',monospace\"><span style=\"font-weight: bold\">Model: \"functional\"</span>\n",
              "</pre>\n"
            ]
          },
          "metadata": {}
        },
        {
          "output_type": "display_data",
          "data": {
            "text/plain": [
              "┏━━━━━━━━━━━━━━━━━━━━━━━━━━━━━━━━━━━━━━┳━━━━━━━━━━━━━━━━━━━━━━━━━━━━━┳━━━━━━━━━━━━━━━━━┓\n",
              "┃\u001b[1m \u001b[0m\u001b[1mLayer (type)                        \u001b[0m\u001b[1m \u001b[0m┃\u001b[1m \u001b[0m\u001b[1mOutput Shape               \u001b[0m\u001b[1m \u001b[0m┃\u001b[1m \u001b[0m\u001b[1m        Param #\u001b[0m\u001b[1m \u001b[0m┃\n",
              "┡━━━━━━━━━━━━━━━━━━━━━━━━━━━━━━━━━━━━━━╇━━━━━━━━━━━━━━━━━━━━━━━━━━━━━╇━━━━━━━━━━━━━━━━━┩\n",
              "│ input_layer_1 (\u001b[38;5;33mInputLayer\u001b[0m)           │ (\u001b[38;5;45mNone\u001b[0m, \u001b[38;5;34m32\u001b[0m, \u001b[38;5;34m32\u001b[0m, \u001b[38;5;34m3\u001b[0m)           │               \u001b[38;5;34m0\u001b[0m │\n",
              "├──────────────────────────────────────┼─────────────────────────────┼─────────────────┤\n",
              "│ flatten_2 (\u001b[38;5;33mFlatten\u001b[0m)                  │ (\u001b[38;5;45mNone\u001b[0m, \u001b[38;5;34m3072\u001b[0m)                │               \u001b[38;5;34m0\u001b[0m │\n",
              "├──────────────────────────────────────┼─────────────────────────────┼─────────────────┤\n",
              "│ dense_1 (\u001b[38;5;33mDense\u001b[0m)                      │ (\u001b[38;5;45mNone\u001b[0m, \u001b[38;5;34m512\u001b[0m)                 │       \u001b[38;5;34m1,573,376\u001b[0m │\n",
              "├──────────────────────────────────────┼─────────────────────────────┼─────────────────┤\n",
              "│ dense_3 (\u001b[38;5;33mDense\u001b[0m)                      │ (\u001b[38;5;45mNone\u001b[0m, \u001b[38;5;34m256\u001b[0m)                 │         \u001b[38;5;34m131,328\u001b[0m │\n",
              "├──────────────────────────────────────┼─────────────────────────────┼─────────────────┤\n",
              "│ dense_5 (\u001b[38;5;33mDense\u001b[0m)                      │ (\u001b[38;5;45mNone\u001b[0m, \u001b[38;5;34m128\u001b[0m)                 │          \u001b[38;5;34m32,896\u001b[0m │\n",
              "├──────────────────────────────────────┼─────────────────────────────┼─────────────────┤\n",
              "│ dense_7 (\u001b[38;5;33mDense\u001b[0m)                      │ (\u001b[38;5;45mNone\u001b[0m, \u001b[38;5;34m64\u001b[0m)                  │           \u001b[38;5;34m8,256\u001b[0m │\n",
              "├──────────────────────────────────────┼─────────────────────────────┼─────────────────┤\n",
              "│ dense_8 (\u001b[38;5;33mDense\u001b[0m)                      │ (\u001b[38;5;45mNone\u001b[0m, \u001b[38;5;34m128\u001b[0m)                 │           \u001b[38;5;34m8,320\u001b[0m │\n",
              "├──────────────────────────────────────┼─────────────────────────────┼─────────────────┤\n",
              "│ dense_9 (\u001b[38;5;33mDense\u001b[0m)                      │ (\u001b[38;5;45mNone\u001b[0m, \u001b[38;5;34m256\u001b[0m)                 │          \u001b[38;5;34m33,024\u001b[0m │\n",
              "├──────────────────────────────────────┼─────────────────────────────┼─────────────────┤\n",
              "│ dense_10 (\u001b[38;5;33mDense\u001b[0m)                     │ (\u001b[38;5;45mNone\u001b[0m, \u001b[38;5;34m10\u001b[0m)                  │           \u001b[38;5;34m2,570\u001b[0m │\n",
              "└──────────────────────────────────────┴─────────────────────────────┴─────────────────┘\n"
            ],
            "text/html": [
              "<pre style=\"white-space:pre;overflow-x:auto;line-height:normal;font-family:Menlo,'DejaVu Sans Mono',consolas,'Courier New',monospace\">┏━━━━━━━━━━━━━━━━━━━━━━━━━━━━━━━━━━━━━━┳━━━━━━━━━━━━━━━━━━━━━━━━━━━━━┳━━━━━━━━━━━━━━━━━┓\n",
              "┃<span style=\"font-weight: bold\"> Layer (type)                         </span>┃<span style=\"font-weight: bold\"> Output Shape                </span>┃<span style=\"font-weight: bold\">         Param # </span>┃\n",
              "┡━━━━━━━━━━━━━━━━━━━━━━━━━━━━━━━━━━━━━━╇━━━━━━━━━━━━━━━━━━━━━━━━━━━━━╇━━━━━━━━━━━━━━━━━┩\n",
              "│ input_layer_1 (<span style=\"color: #0087ff; text-decoration-color: #0087ff\">InputLayer</span>)           │ (<span style=\"color: #00d7ff; text-decoration-color: #00d7ff\">None</span>, <span style=\"color: #00af00; text-decoration-color: #00af00\">32</span>, <span style=\"color: #00af00; text-decoration-color: #00af00\">32</span>, <span style=\"color: #00af00; text-decoration-color: #00af00\">3</span>)           │               <span style=\"color: #00af00; text-decoration-color: #00af00\">0</span> │\n",
              "├──────────────────────────────────────┼─────────────────────────────┼─────────────────┤\n",
              "│ flatten_2 (<span style=\"color: #0087ff; text-decoration-color: #0087ff\">Flatten</span>)                  │ (<span style=\"color: #00d7ff; text-decoration-color: #00d7ff\">None</span>, <span style=\"color: #00af00; text-decoration-color: #00af00\">3072</span>)                │               <span style=\"color: #00af00; text-decoration-color: #00af00\">0</span> │\n",
              "├──────────────────────────────────────┼─────────────────────────────┼─────────────────┤\n",
              "│ dense_1 (<span style=\"color: #0087ff; text-decoration-color: #0087ff\">Dense</span>)                      │ (<span style=\"color: #00d7ff; text-decoration-color: #00d7ff\">None</span>, <span style=\"color: #00af00; text-decoration-color: #00af00\">512</span>)                 │       <span style=\"color: #00af00; text-decoration-color: #00af00\">1,573,376</span> │\n",
              "├──────────────────────────────────────┼─────────────────────────────┼─────────────────┤\n",
              "│ dense_3 (<span style=\"color: #0087ff; text-decoration-color: #0087ff\">Dense</span>)                      │ (<span style=\"color: #00d7ff; text-decoration-color: #00d7ff\">None</span>, <span style=\"color: #00af00; text-decoration-color: #00af00\">256</span>)                 │         <span style=\"color: #00af00; text-decoration-color: #00af00\">131,328</span> │\n",
              "├──────────────────────────────────────┼─────────────────────────────┼─────────────────┤\n",
              "│ dense_5 (<span style=\"color: #0087ff; text-decoration-color: #0087ff\">Dense</span>)                      │ (<span style=\"color: #00d7ff; text-decoration-color: #00d7ff\">None</span>, <span style=\"color: #00af00; text-decoration-color: #00af00\">128</span>)                 │          <span style=\"color: #00af00; text-decoration-color: #00af00\">32,896</span> │\n",
              "├──────────────────────────────────────┼─────────────────────────────┼─────────────────┤\n",
              "│ dense_7 (<span style=\"color: #0087ff; text-decoration-color: #0087ff\">Dense</span>)                      │ (<span style=\"color: #00d7ff; text-decoration-color: #00d7ff\">None</span>, <span style=\"color: #00af00; text-decoration-color: #00af00\">64</span>)                  │           <span style=\"color: #00af00; text-decoration-color: #00af00\">8,256</span> │\n",
              "├──────────────────────────────────────┼─────────────────────────────┼─────────────────┤\n",
              "│ dense_8 (<span style=\"color: #0087ff; text-decoration-color: #0087ff\">Dense</span>)                      │ (<span style=\"color: #00d7ff; text-decoration-color: #00d7ff\">None</span>, <span style=\"color: #00af00; text-decoration-color: #00af00\">128</span>)                 │           <span style=\"color: #00af00; text-decoration-color: #00af00\">8,320</span> │\n",
              "├──────────────────────────────────────┼─────────────────────────────┼─────────────────┤\n",
              "│ dense_9 (<span style=\"color: #0087ff; text-decoration-color: #0087ff\">Dense</span>)                      │ (<span style=\"color: #00d7ff; text-decoration-color: #00d7ff\">None</span>, <span style=\"color: #00af00; text-decoration-color: #00af00\">256</span>)                 │          <span style=\"color: #00af00; text-decoration-color: #00af00\">33,024</span> │\n",
              "├──────────────────────────────────────┼─────────────────────────────┼─────────────────┤\n",
              "│ dense_10 (<span style=\"color: #0087ff; text-decoration-color: #0087ff\">Dense</span>)                     │ (<span style=\"color: #00d7ff; text-decoration-color: #00d7ff\">None</span>, <span style=\"color: #00af00; text-decoration-color: #00af00\">10</span>)                  │           <span style=\"color: #00af00; text-decoration-color: #00af00\">2,570</span> │\n",
              "└──────────────────────────────────────┴─────────────────────────────┴─────────────────┘\n",
              "</pre>\n"
            ]
          },
          "metadata": {}
        },
        {
          "output_type": "display_data",
          "data": {
            "text/plain": [
              "\u001b[1m Total params: \u001b[0m\u001b[38;5;34m1,789,770\u001b[0m (6.83 MB)\n"
            ],
            "text/html": [
              "<pre style=\"white-space:pre;overflow-x:auto;line-height:normal;font-family:Menlo,'DejaVu Sans Mono',consolas,'Courier New',monospace\"><span style=\"font-weight: bold\"> Total params: </span><span style=\"color: #00af00; text-decoration-color: #00af00\">1,789,770</span> (6.83 MB)\n",
              "</pre>\n"
            ]
          },
          "metadata": {}
        },
        {
          "output_type": "display_data",
          "data": {
            "text/plain": [
              "\u001b[1m Trainable params: \u001b[0m\u001b[38;5;34m1,789,770\u001b[0m (6.83 MB)\n"
            ],
            "text/html": [
              "<pre style=\"white-space:pre;overflow-x:auto;line-height:normal;font-family:Menlo,'DejaVu Sans Mono',consolas,'Courier New',monospace\"><span style=\"font-weight: bold\"> Trainable params: </span><span style=\"color: #00af00; text-decoration-color: #00af00\">1,789,770</span> (6.83 MB)\n",
              "</pre>\n"
            ]
          },
          "metadata": {}
        },
        {
          "output_type": "display_data",
          "data": {
            "text/plain": [
              "\u001b[1m Non-trainable params: \u001b[0m\u001b[38;5;34m0\u001b[0m (0.00 B)\n"
            ],
            "text/html": [
              "<pre style=\"white-space:pre;overflow-x:auto;line-height:normal;font-family:Menlo,'DejaVu Sans Mono',consolas,'Courier New',monospace\"><span style=\"font-weight: bold\"> Non-trainable params: </span><span style=\"color: #00af00; text-decoration-color: #00af00\">0</span> (0.00 B)\n",
              "</pre>\n"
            ]
          },
          "metadata": {}
        }
      ]
    },
    {
      "cell_type": "code",
      "source": [
        "fmodel.compile(optimizer=\"adam\",loss=\"sparse_categorical_crossentropy\",metrics=[\"accuracy\"])"
      ],
      "metadata": {
        "id": "N3b1xfQpK5A1"
      },
      "execution_count": 63,
      "outputs": []
    },
    {
      "cell_type": "code",
      "source": [
        "fmodel.fit(X_train_scale,y_train,epochs=20)"
      ],
      "metadata": {
        "colab": {
          "base_uri": "https://localhost:8080/"
        },
        "id": "RcxwYKm6LUhD",
        "outputId": "fa82b34d-27f9-4ae3-d022-e17743ba132c"
      },
      "execution_count": 64,
      "outputs": [
        {
          "output_type": "stream",
          "name": "stdout",
          "text": [
            "Epoch 1/20\n",
            "\u001b[1m1563/1563\u001b[0m \u001b[32m━━━━━━━━━━━━━━━━━━━━\u001b[0m\u001b[37m\u001b[0m \u001b[1m43s\u001b[0m 25ms/step - accuracy: 0.2419 - loss: 2.0223\n",
            "Epoch 2/20\n",
            "\u001b[1m1563/1563\u001b[0m \u001b[32m━━━━━━━━━━━━━━━━━━━━\u001b[0m\u001b[37m\u001b[0m \u001b[1m53s\u001b[0m 34ms/step - accuracy: 0.3606 - loss: 1.7727\n",
            "Epoch 3/20\n",
            "\u001b[1m1563/1563\u001b[0m \u001b[32m━━━━━━━━━━━━━━━━━━━━\u001b[0m\u001b[37m\u001b[0m \u001b[1m70s\u001b[0m 26ms/step - accuracy: 0.3937 - loss: 1.6790\n",
            "Epoch 4/20\n",
            "\u001b[1m1563/1563\u001b[0m \u001b[32m━━━━━━━━━━━━━━━━━━━━\u001b[0m\u001b[37m\u001b[0m \u001b[1m80s\u001b[0m 25ms/step - accuracy: 0.4220 - loss: 1.6115\n",
            "Epoch 5/20\n",
            "\u001b[1m1563/1563\u001b[0m \u001b[32m━━━━━━━━━━━━━━━━━━━━\u001b[0m\u001b[37m\u001b[0m \u001b[1m41s\u001b[0m 25ms/step - accuracy: 0.4353 - loss: 1.5710\n",
            "Epoch 6/20\n",
            "\u001b[1m1563/1563\u001b[0m \u001b[32m━━━━━━━━━━━━━━━━━━━━\u001b[0m\u001b[37m\u001b[0m \u001b[1m40s\u001b[0m 26ms/step - accuracy: 0.4497 - loss: 1.5306\n",
            "Epoch 7/20\n",
            "\u001b[1m1563/1563\u001b[0m \u001b[32m━━━━━━━━━━━━━━━━━━━━\u001b[0m\u001b[37m\u001b[0m \u001b[1m39s\u001b[0m 25ms/step - accuracy: 0.4624 - loss: 1.4986\n",
            "Epoch 8/20\n",
            "\u001b[1m1563/1563\u001b[0m \u001b[32m━━━━━━━━━━━━━━━━━━━━\u001b[0m\u001b[37m\u001b[0m \u001b[1m40s\u001b[0m 25ms/step - accuracy: 0.4684 - loss: 1.4775\n",
            "Epoch 9/20\n",
            "\u001b[1m1563/1563\u001b[0m \u001b[32m━━━━━━━━━━━━━━━━━━━━\u001b[0m\u001b[37m\u001b[0m \u001b[1m38s\u001b[0m 25ms/step - accuracy: 0.4791 - loss: 1.4614\n",
            "Epoch 10/20\n",
            "\u001b[1m1563/1563\u001b[0m \u001b[32m━━━━━━━━━━━━━━━━━━━━\u001b[0m\u001b[37m\u001b[0m \u001b[1m40s\u001b[0m 26ms/step - accuracy: 0.4855 - loss: 1.4385\n",
            "Epoch 11/20\n",
            "\u001b[1m1563/1563\u001b[0m \u001b[32m━━━━━━━━━━━━━━━━━━━━\u001b[0m\u001b[37m\u001b[0m \u001b[1m40s\u001b[0m 25ms/step - accuracy: 0.4896 - loss: 1.4145\n",
            "Epoch 12/20\n",
            "\u001b[1m1563/1563\u001b[0m \u001b[32m━━━━━━━━━━━━━━━━━━━━\u001b[0m\u001b[37m\u001b[0m \u001b[1m42s\u001b[0m 26ms/step - accuracy: 0.5040 - loss: 1.3886\n",
            "Epoch 13/20\n",
            "\u001b[1m1563/1563\u001b[0m \u001b[32m━━━━━━━━━━━━━━━━━━━━\u001b[0m\u001b[37m\u001b[0m \u001b[1m40s\u001b[0m 25ms/step - accuracy: 0.5085 - loss: 1.3695\n",
            "Epoch 14/20\n",
            "\u001b[1m1563/1563\u001b[0m \u001b[32m━━━━━━━━━━━━━━━━━━━━\u001b[0m\u001b[37m\u001b[0m \u001b[1m39s\u001b[0m 25ms/step - accuracy: 0.5094 - loss: 1.3648\n",
            "Epoch 15/20\n",
            "\u001b[1m1563/1563\u001b[0m \u001b[32m━━━━━━━━━━━━━━━━━━━━\u001b[0m\u001b[37m\u001b[0m \u001b[1m39s\u001b[0m 25ms/step - accuracy: 0.5141 - loss: 1.3432\n",
            "Epoch 16/20\n",
            "\u001b[1m1563/1563\u001b[0m \u001b[32m━━━━━━━━━━━━━━━━━━━━\u001b[0m\u001b[37m\u001b[0m \u001b[1m41s\u001b[0m 25ms/step - accuracy: 0.5206 - loss: 1.3355\n",
            "Epoch 17/20\n",
            "\u001b[1m1563/1563\u001b[0m \u001b[32m━━━━━━━━━━━━━━━━━━━━\u001b[0m\u001b[37m\u001b[0m \u001b[1m41s\u001b[0m 25ms/step - accuracy: 0.5294 - loss: 1.3170\n",
            "Epoch 18/20\n",
            "\u001b[1m1563/1563\u001b[0m \u001b[32m━━━━━━━━━━━━━━━━━━━━\u001b[0m\u001b[37m\u001b[0m \u001b[1m41s\u001b[0m 25ms/step - accuracy: 0.5322 - loss: 1.3074\n",
            "Epoch 19/20\n",
            "\u001b[1m1563/1563\u001b[0m \u001b[32m━━━━━━━━━━━━━━━━━━━━\u001b[0m\u001b[37m\u001b[0m \u001b[1m40s\u001b[0m 24ms/step - accuracy: 0.5352 - loss: 1.2982\n",
            "Epoch 20/20\n",
            "\u001b[1m1563/1563\u001b[0m \u001b[32m━━━━━━━━━━━━━━━━━━━━\u001b[0m\u001b[37m\u001b[0m \u001b[1m39s\u001b[0m 25ms/step - accuracy: 0.5429 - loss: 1.2794\n"
          ]
        },
        {
          "output_type": "execute_result",
          "data": {
            "text/plain": [
              "<keras.src.callbacks.history.History at 0x7fc996f93850>"
            ]
          },
          "metadata": {},
          "execution_count": 64
        }
      ]
    },
    {
      "cell_type": "code",
      "source": [
        "fmodel.evaluate(X_test_scale,y_test)"
      ],
      "metadata": {
        "colab": {
          "base_uri": "https://localhost:8080/"
        },
        "id": "Zs7tA-lGLiK_",
        "outputId": "b86445af-cef4-405b-8fe8-c1ee299e2275"
      },
      "execution_count": 65,
      "outputs": [
        {
          "output_type": "stream",
          "name": "stdout",
          "text": [
            "\u001b[1m313/313\u001b[0m \u001b[32m━━━━━━━━━━━━━━━━━━━━\u001b[0m\u001b[37m\u001b[0m \u001b[1m2s\u001b[0m 7ms/step - accuracy: 0.4864 - loss: 1.4560\n"
          ]
        },
        {
          "output_type": "execute_result",
          "data": {
            "text/plain": [
              "[1.4674475193023682, 0.48260000348091125]"
            ]
          },
          "metadata": {},
          "execution_count": 65
        }
      ]
    },
    {
      "cell_type": "code",
      "source": [
        "fmodel.predict(X_train_scale[23789])"
      ],
      "metadata": {
        "colab": {
          "base_uri": "https://localhost:8080/",
          "height": 287
        },
        "id": "wvu5AtOIPc2S",
        "outputId": "888aa854-2bca-4197-cfd3-bb60608738b0"
      },
      "execution_count": 66,
      "outputs": [
        {
          "output_type": "error",
          "ename": "ValueError",
          "evalue": "Input 0 of layer \"functional\" is incompatible with the layer: expected shape=(None, 32, 32, 3), found shape=(32, 32, 3)",
          "traceback": [
            "\u001b[0;31m---------------------------------------------------------------------------\u001b[0m",
            "\u001b[0;31mValueError\u001b[0m                                Traceback (most recent call last)",
            "\u001b[0;32m<ipython-input-66-027013cdbe42>\u001b[0m in \u001b[0;36m<cell line: 1>\u001b[0;34m()\u001b[0m\n\u001b[0;32m----> 1\u001b[0;31m \u001b[0mfmodel\u001b[0m\u001b[0;34m.\u001b[0m\u001b[0mpredict\u001b[0m\u001b[0;34m(\u001b[0m\u001b[0mX_train_scale\u001b[0m\u001b[0;34m[\u001b[0m\u001b[0;36m23789\u001b[0m\u001b[0;34m]\u001b[0m\u001b[0;34m)\u001b[0m\u001b[0;34m\u001b[0m\u001b[0;34m\u001b[0m\u001b[0m\n\u001b[0m",
            "\u001b[0;32m/usr/local/lib/python3.10/dist-packages/keras/src/utils/traceback_utils.py\u001b[0m in \u001b[0;36merror_handler\u001b[0;34m(*args, **kwargs)\u001b[0m\n\u001b[1;32m    120\u001b[0m             \u001b[0;31m# To get the full stack trace, call:\u001b[0m\u001b[0;34m\u001b[0m\u001b[0;34m\u001b[0m\u001b[0m\n\u001b[1;32m    121\u001b[0m             \u001b[0;31m# `keras.config.disable_traceback_filtering()`\u001b[0m\u001b[0;34m\u001b[0m\u001b[0;34m\u001b[0m\u001b[0m\n\u001b[0;32m--> 122\u001b[0;31m             \u001b[0;32mraise\u001b[0m \u001b[0me\u001b[0m\u001b[0;34m.\u001b[0m\u001b[0mwith_traceback\u001b[0m\u001b[0;34m(\u001b[0m\u001b[0mfiltered_tb\u001b[0m\u001b[0;34m)\u001b[0m \u001b[0;32mfrom\u001b[0m \u001b[0;32mNone\u001b[0m\u001b[0;34m\u001b[0m\u001b[0;34m\u001b[0m\u001b[0m\n\u001b[0m\u001b[1;32m    123\u001b[0m         \u001b[0;32mfinally\u001b[0m\u001b[0;34m:\u001b[0m\u001b[0;34m\u001b[0m\u001b[0;34m\u001b[0m\u001b[0m\n\u001b[1;32m    124\u001b[0m             \u001b[0;32mdel\u001b[0m \u001b[0mfiltered_tb\u001b[0m\u001b[0;34m\u001b[0m\u001b[0;34m\u001b[0m\u001b[0m\n",
            "\u001b[0;32m/usr/local/lib/python3.10/dist-packages/keras/src/layers/input_spec.py\u001b[0m in \u001b[0;36massert_input_compatibility\u001b[0;34m(input_spec, inputs, layer_name)\u001b[0m\n\u001b[1;32m    243\u001b[0m                 \u001b[0;32mif\u001b[0m \u001b[0mspec_dim\u001b[0m \u001b[0;32mis\u001b[0m \u001b[0;32mnot\u001b[0m \u001b[0;32mNone\u001b[0m \u001b[0;32mand\u001b[0m \u001b[0mdim\u001b[0m \u001b[0;32mis\u001b[0m \u001b[0;32mnot\u001b[0m \u001b[0;32mNone\u001b[0m\u001b[0;34m:\u001b[0m\u001b[0;34m\u001b[0m\u001b[0;34m\u001b[0m\u001b[0m\n\u001b[1;32m    244\u001b[0m                     \u001b[0;32mif\u001b[0m \u001b[0mspec_dim\u001b[0m \u001b[0;34m!=\u001b[0m \u001b[0mdim\u001b[0m\u001b[0;34m:\u001b[0m\u001b[0;34m\u001b[0m\u001b[0;34m\u001b[0m\u001b[0m\n\u001b[0;32m--> 245\u001b[0;31m                         raise ValueError(\n\u001b[0m\u001b[1;32m    246\u001b[0m                             \u001b[0;34mf'Input {input_index} of layer \"{layer_name}\" is '\u001b[0m\u001b[0;34m\u001b[0m\u001b[0;34m\u001b[0m\u001b[0m\n\u001b[1;32m    247\u001b[0m                             \u001b[0;34m\"incompatible with the layer: \"\u001b[0m\u001b[0;34m\u001b[0m\u001b[0;34m\u001b[0m\u001b[0m\n",
            "\u001b[0;31mValueError\u001b[0m: Input 0 of layer \"functional\" is incompatible with the layer: expected shape=(None, 32, 32, 3), found shape=(32, 32, 3)"
          ]
        }
      ]
    },
    {
      "cell_type": "code",
      "source": [
        "X_train_scale[23789].shape"
      ],
      "metadata": {
        "colab": {
          "base_uri": "https://localhost:8080/"
        },
        "id": "J7IXb6aQPqeg",
        "outputId": "7c65d8da-7737-4744-956e-9b0df72621e9"
      },
      "execution_count": 67,
      "outputs": [
        {
          "output_type": "execute_result",
          "data": {
            "text/plain": [
              "(32, 32, 3)"
            ]
          },
          "metadata": {},
          "execution_count": 67
        }
      ]
    },
    {
      "cell_type": "code",
      "source": [
        "img2=X_train_scale[23783].reshape(1,32,32,3)"
      ],
      "metadata": {
        "id": "1CQ8zIblPyFc"
      },
      "execution_count": 81,
      "outputs": []
    },
    {
      "cell_type": "code",
      "source": [
        "X_train_scale[23789].ndim"
      ],
      "metadata": {
        "id": "MF0tqBItP7Qq"
      },
      "execution_count": 71,
      "outputs": []
    },
    {
      "cell_type": "code",
      "source": [
        "X_train_scale[23783].ndim"
      ],
      "metadata": {
        "colab": {
          "base_uri": "https://localhost:8080/"
        },
        "id": "2trUT75zP_kl",
        "outputId": "9abeded0-5d61-4547-800d-ad52690212e5"
      },
      "execution_count": 70,
      "outputs": [
        {
          "output_type": "execute_result",
          "data": {
            "text/plain": [
              "3"
            ]
          },
          "metadata": {},
          "execution_count": 70
        }
      ]
    },
    {
      "cell_type": "code",
      "source": [
        "a=fmodel.predict(img2)"
      ],
      "metadata": {
        "colab": {
          "base_uri": "https://localhost:8080/"
        },
        "id": "xw5-pr-fQEHx",
        "outputId": "ef44b217-21f4-4098-e8ad-f7c4c12bfee0"
      },
      "execution_count": 82,
      "outputs": [
        {
          "output_type": "stream",
          "name": "stdout",
          "text": [
            "\u001b[1m1/1\u001b[0m \u001b[32m━━━━━━━━━━━━━━━━━━━━\u001b[0m\u001b[37m\u001b[0m \u001b[1m0s\u001b[0m 39ms/step\n"
          ]
        }
      ]
    },
    {
      "cell_type": "code",
      "source": [
        "fmodel.predict(img2)"
      ],
      "metadata": {
        "colab": {
          "base_uri": "https://localhost:8080/"
        },
        "id": "bxmwyftUReWl",
        "outputId": "ca0d2afc-88f5-432b-a890-0eae3e72583d"
      },
      "execution_count": 83,
      "outputs": [
        {
          "output_type": "stream",
          "name": "stdout",
          "text": [
            "\u001b[1m1/1\u001b[0m \u001b[32m━━━━━━━━━━━━━━━━━━━━\u001b[0m\u001b[37m\u001b[0m \u001b[1m0s\u001b[0m 23ms/step\n"
          ]
        },
        {
          "output_type": "execute_result",
          "data": {
            "text/plain": [
              "array([[0.0520102 , 0.03335916, 0.03121652, 0.23442847, 0.03776508,\n",
              "        0.0783337 , 0.05512709, 0.04889701, 0.11479044, 0.31407234]],\n",
              "      dtype=float32)"
            ]
          },
          "metadata": {},
          "execution_count": 83
        }
      ]
    },
    {
      "cell_type": "code",
      "source": [
        "np.argmax(a)"
      ],
      "metadata": {
        "colab": {
          "base_uri": "https://localhost:8080/"
        },
        "id": "U-4lzQv1Qp3-",
        "outputId": "6e99c611-3d71-45cf-9973-e33d527024bc"
      },
      "execution_count": 84,
      "outputs": [
        {
          "output_type": "execute_result",
          "data": {
            "text/plain": [
              "9"
            ]
          },
          "metadata": {},
          "execution_count": 84
        }
      ]
    },
    {
      "cell_type": "code",
      "source": [
        "cols[9]"
      ],
      "metadata": {
        "colab": {
          "base_uri": "https://localhost:8080/",
          "height": 36
        },
        "id": "ey8Rj9YbQ_fx",
        "outputId": "9fca5ed8-3b66-42f6-f83c-2ead93e2aa4d"
      },
      "execution_count": 76,
      "outputs": [
        {
          "output_type": "execute_result",
          "data": {
            "text/plain": [
              "'truck'"
            ],
            "application/vnd.google.colaboratory.intrinsic+json": {
              "type": "string"
            }
          },
          "metadata": {},
          "execution_count": 76
        }
      ]
    },
    {
      "cell_type": "code",
      "source": [
        "X_train_scale[23789]"
      ],
      "metadata": {
        "colab": {
          "base_uri": "https://localhost:8080/"
        },
        "id": "Sfa1VQ8cRBzJ",
        "outputId": "48a34d2a-36c6-45e4-bbb7-a6e954c7a911"
      },
      "execution_count": 77,
      "outputs": [
        {
          "output_type": "execute_result",
          "data": {
            "text/plain": [
              "array([[[0.79607843, 0.7254902 , 0.78823529],\n",
              "        [0.79607843, 0.7254902 , 0.78823529],\n",
              "        [0.8       , 0.72941176, 0.79215686],\n",
              "        ...,\n",
              "        [0.88627451, 0.89803922, 0.95686275],\n",
              "        [0.88235294, 0.89411765, 0.94901961],\n",
              "        [0.87843137, 0.89411765, 0.95294118]],\n",
              "\n",
              "       [[0.80392157, 0.73333333, 0.79607843],\n",
              "        [0.80784314, 0.7372549 , 0.8       ],\n",
              "        [0.80392157, 0.73333333, 0.79607843],\n",
              "        ...,\n",
              "        [0.89803922, 0.91372549, 0.97254902],\n",
              "        [0.89411765, 0.90588235, 0.96470588],\n",
              "        [0.89019608, 0.90588235, 0.96470588]],\n",
              "\n",
              "       [[0.79215686, 0.72156863, 0.78431373],\n",
              "        [0.80392157, 0.73333333, 0.79607843],\n",
              "        [0.8       , 0.72941176, 0.79215686],\n",
              "        ...,\n",
              "        [0.89411765, 0.90588235, 0.96470588],\n",
              "        [0.89019608, 0.90196078, 0.96078431],\n",
              "        [0.88627451, 0.90196078, 0.96078431]],\n",
              "\n",
              "       ...,\n",
              "\n",
              "       [[0.48235294, 0.41568627, 0.45490196],\n",
              "        [0.4745098 , 0.40784314, 0.44705882],\n",
              "        [0.47843137, 0.41176471, 0.45098039],\n",
              "        ...,\n",
              "        [0.43137255, 0.35686275, 0.36078431],\n",
              "        [0.42745098, 0.35686275, 0.35686275],\n",
              "        [0.41568627, 0.35294118, 0.35686275]],\n",
              "\n",
              "       [[0.49411765, 0.42745098, 0.46666667],\n",
              "        [0.49019608, 0.42352941, 0.4627451 ],\n",
              "        [0.49411765, 0.42745098, 0.46666667],\n",
              "        ...,\n",
              "        [0.36078431, 0.29411765, 0.26666667],\n",
              "        [0.36078431, 0.29019608, 0.2627451 ],\n",
              "        [0.35294118, 0.29019608, 0.26666667]],\n",
              "\n",
              "       [[0.49019608, 0.42352941, 0.4627451 ],\n",
              "        [0.48235294, 0.41568627, 0.45490196],\n",
              "        [0.48627451, 0.41960784, 0.45882353],\n",
              "        ...,\n",
              "        [0.30196078, 0.23921569, 0.19215686],\n",
              "        [0.30196078, 0.23921569, 0.18823529],\n",
              "        [0.30196078, 0.24705882, 0.19607843]]])"
            ]
          },
          "metadata": {},
          "execution_count": 77
        },
        {
          "output_type": "execute_result",
          "data": {
            "text/plain": [
              "array([[[0.79607843, 0.7254902 , 0.78823529],\n",
              "        [0.79607843, 0.7254902 , 0.78823529],\n",
              "        [0.8       , 0.72941176, 0.79215686],\n",
              "        ...,\n",
              "        [0.88627451, 0.89803922, 0.95686275],\n",
              "        [0.88235294, 0.89411765, 0.94901961],\n",
              "        [0.87843137, 0.89411765, 0.95294118]],\n",
              "\n",
              "       [[0.80392157, 0.73333333, 0.79607843],\n",
              "        [0.80784314, 0.7372549 , 0.8       ],\n",
              "        [0.80392157, 0.73333333, 0.79607843],\n",
              "        ...,\n",
              "        [0.89803922, 0.91372549, 0.97254902],\n",
              "        [0.89411765, 0.90588235, 0.96470588],\n",
              "        [0.89019608, 0.90588235, 0.96470588]],\n",
              "\n",
              "       [[0.79215686, 0.72156863, 0.78431373],\n",
              "        [0.80392157, 0.73333333, 0.79607843],\n",
              "        [0.8       , 0.72941176, 0.79215686],\n",
              "        ...,\n",
              "        [0.89411765, 0.90588235, 0.96470588],\n",
              "        [0.89019608, 0.90196078, 0.96078431],\n",
              "        [0.88627451, 0.90196078, 0.96078431]],\n",
              "\n",
              "       ...,\n",
              "\n",
              "       [[0.48235294, 0.41568627, 0.45490196],\n",
              "        [0.4745098 , 0.40784314, 0.44705882],\n",
              "        [0.47843137, 0.41176471, 0.45098039],\n",
              "        ...,\n",
              "        [0.43137255, 0.35686275, 0.36078431],\n",
              "        [0.42745098, 0.35686275, 0.35686275],\n",
              "        [0.41568627, 0.35294118, 0.35686275]],\n",
              "\n",
              "       [[0.49411765, 0.42745098, 0.46666667],\n",
              "        [0.49019608, 0.42352941, 0.4627451 ],\n",
              "        [0.49411765, 0.42745098, 0.46666667],\n",
              "        ...,\n",
              "        [0.36078431, 0.29411765, 0.26666667],\n",
              "        [0.36078431, 0.29019608, 0.2627451 ],\n",
              "        [0.35294118, 0.29019608, 0.26666667]],\n",
              "\n",
              "       [[0.49019608, 0.42352941, 0.4627451 ],\n",
              "        [0.48235294, 0.41568627, 0.45490196],\n",
              "        [0.48627451, 0.41960784, 0.45882353],\n",
              "        ...,\n",
              "        [0.30196078, 0.23921569, 0.19215686],\n",
              "        [0.30196078, 0.23921569, 0.18823529],\n",
              "        [0.30196078, 0.24705882, 0.19607843]]])"
            ]
          },
          "metadata": {},
          "execution_count": 78
        }
      ]
    },
    {
      "cell_type": "code",
      "source": [
        "plt.imshow(X_train_scale[23789])"
      ],
      "metadata": {
        "colab": {
          "base_uri": "https://localhost:8080/",
          "height": 447
        },
        "id": "UwyXqR87RIAT",
        "outputId": "b5507ee8-d3b0-492b-9b9b-2376e797e227"
      },
      "execution_count": 79,
      "outputs": [
        {
          "output_type": "execute_result",
          "data": {
            "text/plain": [
              "<matplotlib.image.AxesImage at 0x7fc997045f00>"
            ]
          },
          "metadata": {},
          "execution_count": 79
        },
        {
          "output_type": "display_data",
          "data": {
            "text/plain": [
              "<Figure size 640x480 with 1 Axes>"
            ],
            "image/png": "[encoded data removed]"
          },
          "metadata": {}
        }
      ]
    },
    {
      "cell_type": "code",
      "source": [],
      "metadata": {
        "id": "g0C-Oae7RQHZ"
      },
      "execution_count": null,
      "outputs": []
    }
  ]
}